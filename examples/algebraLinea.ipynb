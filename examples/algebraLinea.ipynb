{
 "cells": [
  {
   "cell_type": "code",
   "execution_count": 10,
   "metadata": {},
   "outputs": [
    {
     "name": "stdout",
     "output_type": "stream",
     "text": [
      "[[ 8 10]\n",
      " [ 5  8]]\n",
      "17\n",
      "[ 5 14]\n",
      "[[11 12]\n",
      " [ 6 11]]\n",
      "(array([4., 3., 2., 1.]), array([[1., 0., 0., 0.],\n",
      "       [0., 1., 0., 0.],\n",
      "       [0., 0., 1., 0.],\n",
      "       [0., 0., 0., 1.]]))\n",
      "24.000000000000004\n",
      "[1.28571429 2.57142857]\n"
     ]
    }
   ],
   "source": [
    "import numpy as np \n",
    "a=np.array([[3,2], [1,3]])\n",
    "b=np.array([[2,2], [1,2]])\n",
    "\n",
    "#multiplicar\n",
    "print(np.dot(a,b))\n",
    "\n",
    "#producto escalar\n",
    "print(np.vdot(a,b))\n",
    "\n",
    "\n",
    "c=np.arange(6).reshape((2,3))\n",
    "d=np.arange(3)\n",
    "\n",
    "#####producto interno\n",
    "print(np.inner(c,d))\n",
    "\n",
    "####matriz elevada a..\n",
    "e=np.array([[3,2], [1,3]])\n",
    "print(np.linalg.matrix_power(e, 2))\n",
    "    #print(np.dot(e,e))\n",
    "    \n",
    "#Determinantes y vectores propios\n",
    "\n",
    "m=np.diag([4,3,2,1])\n",
    "print(np.linalg.eig(m))\n",
    "print(np.linalg.det(m))\n",
    "\n",
    "#resolver ecuacion\n",
    "a=np.array([[3,2], [1,3]])\n",
    "b=np.array([9,9])\n",
    "\n",
    "x=np.linalg.solve(a,b)\n",
    "print(x)\n",
    "\n"
   ]
  }
 ],
 "metadata": {
  "kernelspec": {
   "display_name": "Python 3.10.4 64-bit",
   "language": "python",
   "name": "python3"
  },
  "language_info": {
   "codemirror_mode": {
    "name": "ipython",
    "version": 3
   },
   "file_extension": ".py",
   "mimetype": "text/x-python",
   "name": "python",
   "nbconvert_exporter": "python",
   "pygments_lexer": "ipython3",
   "version": "3.10.4"
  },
  "orig_nbformat": 4,
  "vscode": {
   "interpreter": {
    "hash": "22fea960461263f2d822c2bb01b12ea375ac67bd185198e9cae76b429565e8b0"
   }
  }
 },
 "nbformat": 4,
 "nbformat_minor": 2
}
