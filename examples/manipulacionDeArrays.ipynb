{
 "cells": [
  {
   "cell_type": "code",
   "execution_count": 6,
   "metadata": {},
   "outputs": [
    {
     "name": "stdout",
     "output_type": "stream",
     "text": [
      "[[1 2 3]\n",
      " [4 5 6]\n",
      " [1 2 3]]\n",
      "[[1 2 3 4 5 6]]\n"
     ]
    }
   ],
   "source": [
    "import numpy as np\n",
    "###Dimensiones de array \n",
    "\n",
    "a=np.array([[1,2,3],[4,5,6]])\n",
    "\n",
    "a.reshape(2,3)\n",
    "a.ravel()##lo pone en forma lineal\n",
    "\n",
    "##Tipos de arrays\n",
    "\n",
    "np.asarray([1,2,3,4], dtype=float)#convierte lista python en array\n",
    "np.asfarray([1,2,3,4])#convierte lista python en array de floats\n",
    "\n",
    "np.asarray_chkfinite(a)#comprueba que no haya ni nan ni infinitos\n",
    "\n",
    "np.repeat(a=99,repeats=10)#genera un array de 10 posiciones lineales con valor 99\n",
    "\n",
    "###union de arrays\n",
    "\n",
    "a=np.array([[1,2,3],[4,5,6]])\n",
    "b=np.array([[1,2,3]])\n",
    "\n",
    "print(np.concatenate((a,b),axis=0))#axis=0 es a nivel filas e =1 es a nivel columnas\n",
    "#np.stack(a,b)#misma funcion que concatenate\n",
    "\n",
    "###SEPARACION DE arrays\n",
    "a=np.array([[1,2,3,4,5,6]])\n",
    "#np.split(a, indices_or_sections=2)#divide el array en 2 secciones iguales\n",
    "\n",
    "np.insert(a,4,[5,6])#inserta en el array a en la pos 4 los valores 5 y 6\n",
    "print(a)\n",
    "np.append()#no se le pasa num de posicion, inserta valores al final\n",
    "np.delete()#funciona de la misma forma que insrt pero solo se le pasa num de pos\n",
    "\n",
    "np.trim_zeros(a)#elimina todos los ceros del array \n",
    "\n",
    "np.unique(a)#deja el array solo con los valores unicos"
   ]
  }
 ],
 "metadata": {
  "kernelspec": {
   "display_name": "Python 3.10.4 64-bit",
   "language": "python",
   "name": "python3"
  },
  "language_info": {
   "codemirror_mode": {
    "name": "ipython",
    "version": 3
   },
   "file_extension": ".py",
   "mimetype": "text/x-python",
   "name": "python",
   "nbconvert_exporter": "python",
   "pygments_lexer": "ipython3",
   "version": "3.10.4"
  },
  "orig_nbformat": 4,
  "vscode": {
   "interpreter": {
    "hash": "22fea960461263f2d822c2bb01b12ea375ac67bd185198e9cae76b429565e8b0"
   }
  }
 },
 "nbformat": 4,
 "nbformat_minor": 2
}
