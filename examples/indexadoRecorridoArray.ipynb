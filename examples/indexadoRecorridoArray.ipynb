{
 "cells": [
  {
   "cell_type": "code",
   "execution_count": 2,
   "metadata": {},
   "outputs": [
    {
     "name": "stdout",
     "output_type": "stream",
     "text": [
      "[0 1 2 3 4 5 6 7 8]\n",
      "[0 2 4 6 8]\n",
      "[9 8 7 6 5 4 3 2 1 0]\n",
      "[6 7 8 9]\n",
      "[[6 7 8 9]]\n",
      "[False False False False False  True  True  True  True  True]\n",
      "[5 6 7 8 9]\n",
      "0\n",
      "1\n",
      "2\n",
      "3\n",
      "4\n",
      "5\n",
      "6\n",
      "7\n",
      "8\n",
      "9\n",
      "[0 3 6]\n"
     ]
    }
   ],
   "source": [
    "import numpy as np\n",
    "a=np.arange(10)\n",
    "\n",
    "\n",
    "#Slicing-consultar varias pos arrays\n",
    "print(a[0:9])\n",
    "print(a[0:9:2])\n",
    "print(a[9::-1])\n",
    "\n",
    "b=np.array([[1,2,3,4],[6,7,8,9]], dtype=int)\n",
    "print(b[1,0:4])\n",
    "\n",
    "c=np.matrix([[1,2,3,4],[6,7,8,9]], dtype=int)\n",
    "print(c[1,0:4])\n",
    "\n",
    "\n",
    "#indexado booleano \n",
    "print(a>4)\n",
    "print(a[a>4])\n",
    "\n",
    "#recorrido\n",
    "for v in a:\n",
    "    print(v)\n",
    "\n",
    "a = np.array([0,1,2,3,4,5,6,7,8,9])\n",
    "print(a[0:8:3])"
   ]
  }
 ],
 "metadata": {
  "kernelspec": {
   "display_name": "Python 3.10.4 64-bit",
   "language": "python",
   "name": "python3"
  },
  "language_info": {
   "codemirror_mode": {
    "name": "ipython",
    "version": 3
   },
   "file_extension": ".py",
   "mimetype": "text/x-python",
   "name": "python",
   "nbconvert_exporter": "python",
   "pygments_lexer": "ipython3",
   "version": "3.10.4"
  },
  "orig_nbformat": 4,
  "vscode": {
   "interpreter": {
    "hash": "22fea960461263f2d822c2bb01b12ea375ac67bd185198e9cae76b429565e8b0"
   }
  }
 },
 "nbformat": 4,
 "nbformat_minor": 2
}
