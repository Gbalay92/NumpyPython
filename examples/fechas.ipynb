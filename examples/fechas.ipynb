{
 "cells": [
  {
   "cell_type": "code",
   "execution_count": 4,
   "metadata": {},
   "outputs": [
    {
     "name": "stdout",
     "output_type": "stream",
     "text": [
      "2020-09-11\n"
     ]
    }
   ],
   "source": [
    "import numpy as np\n",
    "\n",
    "d=np.datetime64('2020-09-01') #año/mes/dia\n",
    "e=np.datetime64('2020-09-02T14:30')\n",
    "\n",
    "a=np.array(['2020-09-01','2020-09-02','2020-09-03'], dtype='datetime64')\n",
    "b=np.arange('2020-09-01', '2020-09-10', dtype='datetime64')\n",
    "\n",
    "##Operaciones con fechas \n",
    "\n",
    "c=np.timedelta64(10,'D')#periodo temporal 10 dias\n",
    "\n",
    "g=d+c#suma a d 10 dias\n",
    "print(g)\n",
    "\n"
   ]
  }
 ],
 "metadata": {
  "kernelspec": {
   "display_name": "Python 3.10.4 64-bit",
   "language": "python",
   "name": "python3"
  },
  "language_info": {
   "codemirror_mode": {
    "name": "ipython",
    "version": 3
   },
   "file_extension": ".py",
   "mimetype": "text/x-python",
   "name": "python",
   "nbconvert_exporter": "python",
   "pygments_lexer": "ipython3",
   "version": "3.10.4"
  },
  "orig_nbformat": 4,
  "vscode": {
   "interpreter": {
    "hash": "22fea960461263f2d822c2bb01b12ea375ac67bd185198e9cae76b429565e8b0"
   }
  }
 },
 "nbformat": 4,
 "nbformat_minor": 2
}
