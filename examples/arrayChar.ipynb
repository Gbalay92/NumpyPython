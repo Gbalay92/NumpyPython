{
 "cells": [
  {
   "cell_type": "code",
   "execution_count": 1,
   "metadata": {},
   "outputs": [
    {
     "name": "stdout",
     "output_type": "stream",
     "text": [
      "['ad' 'be' 'cf']\n"
     ]
    }
   ],
   "source": [
    "import numpy as np\n",
    "\n",
    "a=np.array(['a','b','c'])\n",
    "b=np.array(['d','e','f'])\n",
    "\n",
    "f=np.char.add(a,b)#concatena arrays de cadenas\n",
    "print(f)\n",
    "\n",
    "\n",
    "nombres=np.array(['nombres','apellidos'])\n",
    "np.char.capitalize(nombres)#pone todo en mayusculas\n",
    "\n",
    "np.char.replace(nombres, 's', ' ')#reemplaza las 's' por ' '\n",
    "\n",
    "c=np.array(['  hola   ', '  esii'])\n",
    "np.char.strip(c)#eliimina espacios en blanco al principio y al final\n",
    "np.char.equal()#compara 2 arrays posicion por posicion y devuelve un array de booleanos\n",
    "\n",
    "\n",
    "##informaciond e cadenas\n",
    "np.char.endswith(c, suffix='ii')#comprueba que las posiciones del array acaben en ii\n",
    "\n"
   ]
  }
 ],
 "metadata": {
  "kernelspec": {
   "display_name": "Python 3.10.4 64-bit",
   "language": "python",
   "name": "python3"
  },
  "language_info": {
   "codemirror_mode": {
    "name": "ipython",
    "version": 3
   },
   "file_extension": ".py",
   "mimetype": "text/x-python",
   "name": "python",
   "nbconvert_exporter": "python",
   "pygments_lexer": "ipython3",
   "version": "3.10.4"
  },
  "orig_nbformat": 4,
  "vscode": {
   "interpreter": {
    "hash": "22fea960461263f2d822c2bb01b12ea375ac67bd185198e9cae76b429565e8b0"
   }
  }
 },
 "nbformat": 4,
 "nbformat_minor": 2
}
