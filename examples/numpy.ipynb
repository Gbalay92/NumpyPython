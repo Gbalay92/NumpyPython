{
 "cells": [
  {
   "cell_type": "code",
   "execution_count": 6,
   "metadata": {},
   "outputs": [
    {
     "name": "stdout",
     "output_type": "stream",
     "text": [
      "[0. 0. 0. 0. 0. 0. 0. 0. 0. 0.]\n",
      "[[1. 1.]\n",
      " [1. 1.]\n",
      " [1. 1.]\n",
      " [1. 1.]\n",
      " [1. 1.]]\n",
      "[0 1 2 3 4 5 6 7 8 9]\n"
     ]
    },
    {
     "data": {
      "text/plain": [
       "array([[0, 1],\n",
       "       [2, 3],\n",
       "       [4, 5],\n",
       "       [6, 7],\n",
       "       [8, 9]])"
      ]
     },
     "execution_count": 6,
     "metadata": {},
     "output_type": "execute_result"
    }
   ],
   "source": [
    "import numpy as np\n",
    "array1=np.array([1,2,3,4,5,6], dtype='int')\n",
    "\n",
    "array2=np.array([[1,2,3],[4,5,6]], ndmin=2)\n",
    "                \n",
    "array3=np.array([1,2,3], dtype='complex')\n",
    "\n",
    "\n",
    "#np.zeros\n",
    "#np.ones\n",
    "#np.arange\n",
    "#reshape\n",
    "array0=np.zeros(10)\n",
    "print(array0)\n",
    "\n",
    "arrayTp=np.ones((5,2))\n",
    "print(arrayTp)\n",
    "\n",
    "arrayAr=np.arange(0,10)\n",
    "print(arrayAr)\n",
    "\n",
    "arrayAr.reshape((5,2))\n",
    "\n"
   ]
  }
 ],
 "metadata": {
  "kernelspec": {
   "display_name": "Python 3.10.4 64-bit",
   "language": "python",
   "name": "python3"
  },
  "language_info": {
   "codemirror_mode": {
    "name": "ipython",
    "version": 3
   },
   "file_extension": ".py",
   "mimetype": "text/x-python",
   "name": "python",
   "nbconvert_exporter": "python",
   "pygments_lexer": "ipython3",
   "version": "3.10.4"
  },
  "orig_nbformat": 4,
  "vscode": {
   "interpreter": {
    "hash": "22fea960461263f2d822c2bb01b12ea375ac67bd185198e9cae76b429565e8b0"
   }
  }
 },
 "nbformat": 4,
 "nbformat_minor": 2
}
