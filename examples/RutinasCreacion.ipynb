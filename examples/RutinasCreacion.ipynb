{
 "cells": [
  {
   "cell_type": "code",
   "execution_count": 1,
   "metadata": {},
   "outputs": [
    {
     "name": "stdout",
     "output_type": "stream",
     "text": [
      "[[1. 0. 0. 0.]\n",
      " [0. 1. 0. 0.]\n",
      " [0. 0. 1. 0.]\n",
      " [0. 0. 0. 1.]]\n",
      "[[0. 1. 0. 0.]\n",
      " [0. 0. 1. 0.]\n",
      " [0. 0. 0. 1.]\n",
      " [0. 0. 0. 0.]]\n"
     ]
    }
   ],
   "source": [
    "import numpy as np \n",
    "\n",
    "print(np.eye(4))\n",
    "print(np.eye(4, k=1))\n",
    "\n",
    "np.identity(4)\n",
    "\n",
    "np.full(shape=(4, 4), fill_value=99 )\n",
    "np.full(shape=(4, 4), fill_value=[10,20,30,40] )\n",
    "\n",
    "#creacion desde datos existentes\n",
    "\n",
    "np.fromstring('1 2 3 4', sep=' ')\n",
    "\n",
    "###Rangos numericos\n",
    "\n",
    "np.linspace(start=1,stop=10, num=5) #devuelve 5 floats entre 1 y 10,,, si añadimos endpoint=true no coge el 10\n",
    "\n",
    "np.logspace(start=2, stop=3.5, num=5)#devuelve 5 floats entre 2y 3.5. y hace 10** ese numero devuelto\n",
    "\n",
    "###creacion de matrices\n",
    "\n",
    "a=np.eye(4)\n",
    "b=np.diag(a)\n",
    "\n",
    "c=np.tri(N=5, M=5) #crea matriz con la diagonal y todos las posiciones de esta con valor 1. el resto 0\n"
   ]
  }
 ],
 "metadata": {
  "kernelspec": {
   "display_name": "Python 3.10.4 64-bit",
   "language": "python",
   "name": "python3"
  },
  "language_info": {
   "codemirror_mode": {
    "name": "ipython",
    "version": 3
   },
   "file_extension": ".py",
   "mimetype": "text/x-python",
   "name": "python",
   "nbconvert_exporter": "python",
   "pygments_lexer": "ipython3",
   "version": "3.10.4"
  },
  "orig_nbformat": 4,
  "vscode": {
   "interpreter": {
    "hash": "22fea960461263f2d822c2bb01b12ea375ac67bd185198e9cae76b429565e8b0"
   }
  }
 },
 "nbformat": 4,
 "nbformat_minor": 2
}
