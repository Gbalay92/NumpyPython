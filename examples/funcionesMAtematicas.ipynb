{
 "cells": [
  {
   "cell_type": "code",
   "execution_count": 1,
   "metadata": {},
   "outputs": [
    {
     "name": "stdout",
     "output_type": "stream",
     "text": [
      "[0 3 6]\n"
     ]
    },
    {
     "ename": "TypeError",
     "evalue": "add() takes from 2 to 3 positional arguments but 0 were given",
     "output_type": "error",
     "traceback": [
      "\u001b[1;31m---------------------------------------------------------------------------\u001b[0m",
      "\u001b[1;31mTypeError\u001b[0m                                 Traceback (most recent call last)",
      "\u001b[1;32mc:\\Users\\zalo_\\OneDrive\\Escritorio\\entregas\\NumpyPython\\funcionesMAtematicas.ipynb Celda 1\u001b[0m in \u001b[0;36m<cell line: 23>\u001b[1;34m()\u001b[0m\n\u001b[0;32m     <a href='vscode-notebook-cell:/c%3A/Users/zalo_/OneDrive/Escritorio/entregas/NumpyPython/funcionesMAtematicas.ipynb#W0sZmlsZQ%3D%3D?line=19'>20</a>\u001b[0m np\u001b[39m.\u001b[39mlog2(b)\n\u001b[0;32m     <a href='vscode-notebook-cell:/c%3A/Users/zalo_/OneDrive/Escritorio/entregas/NumpyPython/funcionesMAtematicas.ipynb#W0sZmlsZQ%3D%3D?line=21'>22</a>\u001b[0m \u001b[39m#operaciones aritemeticas\u001b[39;00m\n\u001b[1;32m---> <a href='vscode-notebook-cell:/c%3A/Users/zalo_/OneDrive/Escritorio/entregas/NumpyPython/funcionesMAtematicas.ipynb#W0sZmlsZQ%3D%3D?line=22'>23</a>\u001b[0m np\u001b[39m.\u001b[39;49madd()\n\u001b[0;32m     <a href='vscode-notebook-cell:/c%3A/Users/zalo_/OneDrive/Escritorio/entregas/NumpyPython/funcionesMAtematicas.ipynb#W0sZmlsZQ%3D%3D?line=23'>24</a>\u001b[0m np\u001b[39m.\u001b[39msubtract()\n\u001b[0;32m     <a href='vscode-notebook-cell:/c%3A/Users/zalo_/OneDrive/Escritorio/entregas/NumpyPython/funcionesMAtematicas.ipynb#W0sZmlsZQ%3D%3D?line=24'>25</a>\u001b[0m np\u001b[39m.\u001b[39mmultiply()\n",
      "\u001b[1;31mTypeError\u001b[0m: add() takes from 2 to 3 positional arguments but 0 were given"
     ]
    }
   ],
   "source": [
    "import numpy as np\n",
    "\n",
    "#sumas y prodcutos\n",
    "\n",
    "a=np.array([2,3,4])\n",
    "b=np.array([1,2,3])\n",
    "np.prod(a)#producto de todos los valores del array #tiene otros constructores\n",
    "np.sum(a)\n",
    "a = np.array([0,1,2,3,4,5,6,7,8,9])\n",
    "print(a[0:8:3])\n",
    "#exponentes y logaritmos\n",
    "np.exp(a) #eleva los elementos del array por separado al numero e\n",
    "\n",
    "p=np.power(np.e,b)\n",
    "\n",
    "np.log(p)\n",
    "\n",
    "np.log10(b)\n",
    "\n",
    "np.log2(b)\n",
    "\n",
    "#operaciones aritemeticas\n",
    "np.add()\n",
    "np.subtract()\n",
    "np.multiply()\n",
    "np.divide()\n",
    "\n"
   ]
  }
 ],
 "metadata": {
  "kernelspec": {
   "display_name": "Python 3.10.4 64-bit",
   "language": "python",
   "name": "python3"
  },
  "language_info": {
   "codemirror_mode": {
    "name": "ipython",
    "version": 3
   },
   "file_extension": ".py",
   "mimetype": "text/x-python",
   "name": "python",
   "nbconvert_exporter": "python",
   "pygments_lexer": "ipython3",
   "version": "3.10.4"
  },
  "orig_nbformat": 4,
  "vscode": {
   "interpreter": {
    "hash": "22fea960461263f2d822c2bb01b12ea375ac67bd185198e9cae76b429565e8b0"
   }
  }
 },
 "nbformat": 4,
 "nbformat_minor": 2
}
