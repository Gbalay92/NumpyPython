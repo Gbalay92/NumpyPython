{
 "cells": [
  {
   "cell_type": "code",
   "execution_count": 3,
   "metadata": {},
   "outputs": [
    {
     "name": "stdout",
     "output_type": "stream",
     "text": [
      "<class 'numpy.ndarray'>\n",
      "int32\n"
     ]
    },
    {
     "ename": "MaskError",
     "evalue": "Mask and data not compatible: data size is 6, mask size is 5.",
     "output_type": "error",
     "traceback": [
      "\u001b[1;31m---------------------------------------------------------------------------\u001b[0m",
      "\u001b[1;31mMaskError\u001b[0m                                 Traceback (most recent call last)",
      "\u001b[1;32mc:\\Users\\zalo_\\OneDrive\\Escritorio\\entregas\\NumpyPython\\mascaras.ipynb Celda 1\u001b[0m in \u001b[0;36m<cell line: 7>\u001b[1;34m()\u001b[0m\n\u001b[0;32m      <a href='vscode-notebook-cell:/c%3A/Users/zalo_/OneDrive/Escritorio/entregas/NumpyPython/mascaras.ipynb#W0sZmlsZQ%3D%3D?line=4'>5</a>\u001b[0m \u001b[39mprint\u001b[39m(\u001b[39mtype\u001b[39m(x))\n\u001b[0;32m      <a href='vscode-notebook-cell:/c%3A/Users/zalo_/OneDrive/Escritorio/entregas/NumpyPython/mascaras.ipynb#W0sZmlsZQ%3D%3D?line=5'>6</a>\u001b[0m \u001b[39mprint\u001b[39m(x\u001b[39m.\u001b[39mdtype)\n\u001b[1;32m----> <a href='vscode-notebook-cell:/c%3A/Users/zalo_/OneDrive/Escritorio/entregas/NumpyPython/mascaras.ipynb#W0sZmlsZQ%3D%3D?line=6'>7</a>\u001b[0m mask\u001b[39m=\u001b[39mma\u001b[39m.\u001b[39;49mmasked_array(x,mask\u001b[39m=\u001b[39;49m[\u001b[39m0\u001b[39;49m,\u001b[39m0\u001b[39;49m,\u001b[39m0\u001b[39;49m,\u001b[39m1\u001b[39;49m,\u001b[39m0\u001b[39;49m])\n",
      "File \u001b[1;32mc:\\Users\\zalo_\\AppData\\Local\\Programs\\Python\\Python310\\lib\\site-packages\\numpy\\ma\\core.py:2906\u001b[0m, in \u001b[0;36mMaskedArray.__new__\u001b[1;34m(cls, data, mask, dtype, copy, subok, ndmin, fill_value, keep_mask, hard_mask, shrink, order)\u001b[0m\n\u001b[0;32m   2903\u001b[0m     \u001b[39melse\u001b[39;00m:\n\u001b[0;32m   2904\u001b[0m         msg \u001b[39m=\u001b[39m \u001b[39m\"\u001b[39m\u001b[39mMask and data not compatible: data size is \u001b[39m\u001b[39m%i\u001b[39;00m\u001b[39m, \u001b[39m\u001b[39m\"\u001b[39m \u001b[39m+\u001b[39m \\\n\u001b[0;32m   2905\u001b[0m               \u001b[39m\"\u001b[39m\u001b[39mmask size is \u001b[39m\u001b[39m%i\u001b[39;00m\u001b[39m.\u001b[39m\u001b[39m\"\u001b[39m\n\u001b[1;32m-> 2906\u001b[0m         \u001b[39mraise\u001b[39;00m MaskError(msg \u001b[39m%\u001b[39m (nd, nm))\n\u001b[0;32m   2907\u001b[0m     copy \u001b[39m=\u001b[39m \u001b[39mTrue\u001b[39;00m\n\u001b[0;32m   2908\u001b[0m \u001b[39m# Set the mask to the new value\u001b[39;00m\n",
      "\u001b[1;31mMaskError\u001b[0m: Mask and data not compatible: data size is 6, mask size is 5."
     ]
    }
   ],
   "source": [
    "import numpy as np\n",
    "import numpy.ma as ma\n",
    "\n",
    "x=np.array([1,2,3,4,-1,5])\n",
    "print(type(x))\n",
    "print(x.dtype)\n",
    "mask=ma.masked_array(x,mask=[0,0,0,1,0])#0=True 1=false\n",
    "\n",
    "\n"
   ]
  }
 ],
 "metadata": {
  "kernelspec": {
   "display_name": "Python 3.10.4 64-bit",
   "language": "python",
   "name": "python3"
  },
  "language_info": {
   "codemirror_mode": {
    "name": "ipython",
    "version": 3
   },
   "file_extension": ".py",
   "mimetype": "text/x-python",
   "name": "python",
   "nbconvert_exporter": "python",
   "pygments_lexer": "ipython3",
   "version": "3.10.4"
  },
  "orig_nbformat": 4,
  "vscode": {
   "interpreter": {
    "hash": "22fea960461263f2d822c2bb01b12ea375ac67bd185198e9cae76b429565e8b0"
   }
  }
 },
 "nbformat": 4,
 "nbformat_minor": 2
}
