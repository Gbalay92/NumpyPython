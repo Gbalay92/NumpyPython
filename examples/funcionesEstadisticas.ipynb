{
 "cells": [
  {
   "cell_type": "code",
   "execution_count": null,
   "metadata": {},
   "outputs": [],
   "source": [
    "import numpy as np\n",
    "\n",
    "#relacionadas con el orden\n",
    "a=np.array([2,5,6,10])\n",
    "\n",
    "np.min(a)\n",
    "b=np.arange(12).reshape(3,4)\n",
    "\n",
    "np.min(b,axis=0)\n",
    "\n",
    "c=np.arange(101)\n",
    "\n",
    "np.percentile(b, 11)#calcula el percentil de un array\n",
    "\n",
    "np.quantile(b, 0.25)#calcula el cuartil de un array\n",
    "\n",
    "\n",
    "###medias y varianzas\n",
    "\n",
    "np.mean(c)#media de la suma de todos los valores de un array\n",
    "\n",
    "np.median(b)#valor justo en el medio de un array    \n",
    "\n",
    "np.average(b)#igual que mean\n",
    "\n",
    "np.mean(b,axis=1) #media por filas \n",
    "\n",
    "np.std(b)#desviacion estandar\n",
    "\n",
    "np.var(b) #calcula la varianza, se puede usar con axis\n",
    "\n"
   ]
  }
 ],
 "metadata": {
  "kernelspec": {
   "display_name": "Python 3.10.4 64-bit",
   "language": "python",
   "name": "python3"
  },
  "language_info": {
   "name": "python",
   "version": "3.10.4"
  },
  "orig_nbformat": 4,
  "vscode": {
   "interpreter": {
    "hash": "22fea960461263f2d822c2bb01b12ea375ac67bd185198e9cae76b429565e8b0"
   }
  }
 },
 "nbformat": 4,
 "nbformat_minor": 2
}
