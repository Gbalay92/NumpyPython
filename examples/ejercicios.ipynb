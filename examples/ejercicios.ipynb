{
 "cells": [
  {
   "cell_type": "code",
   "execution_count": 6,
   "metadata": {},
   "outputs": [
    {
     "name": "stdout",
     "output_type": "stream",
     "text": [
      "[[-- 1 8 4]\n",
      " [3 7 2 1]\n",
      " [0 2 -- --]]\n",
      "504 hours\n",
      "1992-09-24T04\n"
     ]
    }
   ],
   "source": [
    "import numpy as np\n",
    "\n",
    "a=np.arange(1,100,2, dtype='int')\n",
    "np.array(['gonzalo', 'balay'])\n",
    "\n",
    "m=np.matrix('10 1 8 4;3 7 2 1;0 2 20 12')\n",
    "\n",
    "import numpy.ma as ma\n",
    "\n",
    "m_masked=ma.masked_greater_equal(m,10)\n",
    "print(m_masked)\n",
    "\n",
    "\n",
    "fecha=np.datetime64('1992-10-04')\n",
    "fecha2=np.datetime64('1992-10-25')\n",
    "\n",
    "diff=fecha2-fecha\n",
    "print(np.timedelta64(diff, 'h'))\n",
    "\n",
    "f=fecha-np.timedelta64(236,'h')\n",
    "print(f)"
   ]
  }
 ],
 "metadata": {
  "kernelspec": {
   "display_name": "Python 3.10.4 64-bit",
   "language": "python",
   "name": "python3"
  },
  "language_info": {
   "codemirror_mode": {
    "name": "ipython",
    "version": 3
   },
   "file_extension": ".py",
   "mimetype": "text/x-python",
   "name": "python",
   "nbconvert_exporter": "python",
   "pygments_lexer": "ipython3",
   "version": "3.10.4"
  },
  "orig_nbformat": 4,
  "vscode": {
   "interpreter": {
    "hash": "22fea960461263f2d822c2bb01b12ea375ac67bd185198e9cae76b429565e8b0"
   }
  }
 },
 "nbformat": 4,
 "nbformat_minor": 2
}
